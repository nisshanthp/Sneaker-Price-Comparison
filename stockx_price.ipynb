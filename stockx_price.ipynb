{
 "cells": [
  {
   "cell_type": "code",
   "execution_count": 16,
   "metadata": {},
   "outputs": [],
   "source": [
    "from selenium import webdriver\n",
    "from selenium.webdriver.common.keys import Keys\n",
    "from selenium.webdriver.common.by import By\n",
    "from selenium.webdriver.support.ui import WebDriverWait\n",
    "from selenium.webdriver.support import expected_conditions as EC\n",
    "from selenium.webdriver.chrome.options import Options\n",
    "from selenium.webdriver.chrome.service import Service\n",
    "from bs4 import BeautifulSoup\n"
   ]
  },
  {
   "cell_type": "code",
   "execution_count": 17,
   "metadata": {},
   "outputs": [],
   "source": [
    "shoe_name = \"Air Force 1\"\n",
    "shoe_size = 9.5\n",
    "gender = \"Male\""
   ]
  },
  {
   "cell_type": "code",
   "execution_count": 18,
   "metadata": {},
   "outputs": [
    {
     "name": "stderr",
     "output_type": "stream",
     "text": [
      "/var/folders/5v/dw8pg9hn4453bwh0qfjpty_h0000gn/T/ipykernel_8411/3572939262.py:10: DeprecationWarning: executable_path has been deprecated, please pass in a Service object\n",
      "  driver = webdriver.Chrome(executable_path='/usr/local/bin/chromedriver', options=options)\n"
     ]
    }
   ],
   "source": [
    "import time\n",
    "\n",
    "\n",
    "options = Options()\n",
    "options.add_experimental_option(\"excludeSwitches\",[\"enable-automation\"])\n",
    "\n",
    "# set up the browser driver\n",
    "#driver = webdriver.Chrome('/usr/local/bin/chromedriver')\n",
    "# Set up the browser driver\n",
    "driver = webdriver.Chrome(executable_path='/usr/local/bin/chromedriver', options=options)\n",
    "\n",
    "# Navigate to the sneaker's product page\n",
    "driver.get('https://stockx.com/')\n",
    "# Wait for the page to load\n",
    "driver.implicitly_wait(10)\n",
    "\n",
    "# Wait an additional 10 seconds before continuing\n",
    "time.sleep(10)\n",
    "\n"
   ]
  },
  {
   "cell_type": "code",
   "execution_count": 21,
   "metadata": {},
   "outputs": [
    {
     "ename": "NoSuchElementException",
     "evalue": "Message: no such element: Unable to locate element: {\"method\":\"css selector\",\"selector\":\"input[data-component='SearchInput']\"}\n  (Session info: chrome=111.0.5563.64)\nStacktrace:\n0   chromedriver                        0x00000001011f6d3c chromedriver + 4222268\n1   chromedriver                        0x000000010117d8e8 chromedriver + 3725544\n2   chromedriver                        0x0000000100e33da4 chromedriver + 277924\n3   chromedriver                        0x0000000100e6f1b8 chromedriver + 520632\n4   chromedriver                        0x0000000100ea7618 chromedriver + 751128\n5   chromedriver                        0x0000000100e618f0 chromedriver + 465136\n6   chromedriver                        0x0000000100e62974 chromedriver + 469364\n7   chromedriver                        0x00000001011c7788 chromedriver + 4028296\n8   chromedriver                        0x00000001011cbc1c chromedriver + 4045852\n9   chromedriver                        0x00000001011d1c98 chromedriver + 4070552\n10  chromedriver                        0x00000001011cc8d8 chromedriver + 4049112\n11  chromedriver                        0x00000001011a3d84 chromedriver + 3882372\n12  chromedriver                        0x00000001011ea720 chromedriver + 4171552\n13  chromedriver                        0x00000001011ea878 chromedriver + 4171896\n14  chromedriver                        0x00000001011fe014 chromedriver + 4251668\n15  libsystem_pthread.dylib             0x000000019cb9e06c _pthread_start + 148\n16  libsystem_pthread.dylib             0x000000019cb98e2c thread_start + 8\n",
     "output_type": "error",
     "traceback": [
      "\u001b[0;31m---------------------------------------------------------------------------\u001b[0m",
      "\u001b[0;31mNoSuchElementException\u001b[0m                    Traceback (most recent call last)",
      "Cell \u001b[0;32mIn[21], line 2\u001b[0m\n\u001b[1;32m      1\u001b[0m \u001b[39m# Find the search bar container\u001b[39;00m\n\u001b[0;32m----> 2\u001b[0m search_box_container \u001b[39m=\u001b[39m driver\u001b[39m.\u001b[39;49mfind_element(By\u001b[39m.\u001b[39;49mCSS_SELECTOR, \u001b[39m\"\u001b[39;49m\u001b[39minput[data-component=\u001b[39;49m\u001b[39m'\u001b[39;49m\u001b[39mSearchInput\u001b[39;49m\u001b[39m'\u001b[39;49m\u001b[39m]\u001b[39;49m\u001b[39m\"\u001b[39;49m)\n\u001b[1;32m      4\u001b[0m \u001b[39m# Find the input element within the search bar container\u001b[39;00m\n\u001b[1;32m      5\u001b[0m \u001b[39m# search_input = search_box_container.find_element(By.NAME, \"search\")\u001b[39;00m\n",
      "File \u001b[0;32m/Library/Frameworks/Python.framework/Versions/3.11/lib/python3.11/site-packages/selenium/webdriver/remote/webdriver.py:830\u001b[0m, in \u001b[0;36mWebDriver.find_element\u001b[0;34m(self, by, value)\u001b[0m\n\u001b[1;32m    827\u001b[0m     by \u001b[39m=\u001b[39m By\u001b[39m.\u001b[39mCSS_SELECTOR\n\u001b[1;32m    828\u001b[0m     value \u001b[39m=\u001b[39m \u001b[39mf\u001b[39m\u001b[39m'\u001b[39m\u001b[39m[name=\u001b[39m\u001b[39m\"\u001b[39m\u001b[39m{\u001b[39;00mvalue\u001b[39m}\u001b[39;00m\u001b[39m\"\u001b[39m\u001b[39m]\u001b[39m\u001b[39m'\u001b[39m\n\u001b[0;32m--> 830\u001b[0m \u001b[39mreturn\u001b[39;00m \u001b[39mself\u001b[39;49m\u001b[39m.\u001b[39;49mexecute(Command\u001b[39m.\u001b[39;49mFIND_ELEMENT, {\u001b[39m\"\u001b[39;49m\u001b[39musing\u001b[39;49m\u001b[39m\"\u001b[39;49m: by, \u001b[39m\"\u001b[39;49m\u001b[39mvalue\u001b[39;49m\u001b[39m\"\u001b[39;49m: value})[\u001b[39m\"\u001b[39m\u001b[39mvalue\u001b[39m\u001b[39m\"\u001b[39m]\n",
      "File \u001b[0;32m/Library/Frameworks/Python.framework/Versions/3.11/lib/python3.11/site-packages/selenium/webdriver/remote/webdriver.py:440\u001b[0m, in \u001b[0;36mWebDriver.execute\u001b[0;34m(self, driver_command, params)\u001b[0m\n\u001b[1;32m    438\u001b[0m response \u001b[39m=\u001b[39m \u001b[39mself\u001b[39m\u001b[39m.\u001b[39mcommand_executor\u001b[39m.\u001b[39mexecute(driver_command, params)\n\u001b[1;32m    439\u001b[0m \u001b[39mif\u001b[39;00m response:\n\u001b[0;32m--> 440\u001b[0m     \u001b[39mself\u001b[39;49m\u001b[39m.\u001b[39;49merror_handler\u001b[39m.\u001b[39;49mcheck_response(response)\n\u001b[1;32m    441\u001b[0m     response[\u001b[39m\"\u001b[39m\u001b[39mvalue\u001b[39m\u001b[39m\"\u001b[39m] \u001b[39m=\u001b[39m \u001b[39mself\u001b[39m\u001b[39m.\u001b[39m_unwrap_value(response\u001b[39m.\u001b[39mget(\u001b[39m\"\u001b[39m\u001b[39mvalue\u001b[39m\u001b[39m\"\u001b[39m, \u001b[39mNone\u001b[39;00m))\n\u001b[1;32m    442\u001b[0m     \u001b[39mreturn\u001b[39;00m response\n",
      "File \u001b[0;32m/Library/Frameworks/Python.framework/Versions/3.11/lib/python3.11/site-packages/selenium/webdriver/remote/errorhandler.py:245\u001b[0m, in \u001b[0;36mErrorHandler.check_response\u001b[0;34m(self, response)\u001b[0m\n\u001b[1;32m    243\u001b[0m         alert_text \u001b[39m=\u001b[39m value[\u001b[39m\"\u001b[39m\u001b[39malert\u001b[39m\u001b[39m\"\u001b[39m]\u001b[39m.\u001b[39mget(\u001b[39m\"\u001b[39m\u001b[39mtext\u001b[39m\u001b[39m\"\u001b[39m)\n\u001b[1;32m    244\u001b[0m     \u001b[39mraise\u001b[39;00m exception_class(message, screen, stacktrace, alert_text)  \u001b[39m# type: ignore[call-arg]  # mypy is not smart enough here\u001b[39;00m\n\u001b[0;32m--> 245\u001b[0m \u001b[39mraise\u001b[39;00m exception_class(message, screen, stacktrace)\n",
      "\u001b[0;31mNoSuchElementException\u001b[0m: Message: no such element: Unable to locate element: {\"method\":\"css selector\",\"selector\":\"input[data-component='SearchInput']\"}\n  (Session info: chrome=111.0.5563.64)\nStacktrace:\n0   chromedriver                        0x00000001011f6d3c chromedriver + 4222268\n1   chromedriver                        0x000000010117d8e8 chromedriver + 3725544\n2   chromedriver                        0x0000000100e33da4 chromedriver + 277924\n3   chromedriver                        0x0000000100e6f1b8 chromedriver + 520632\n4   chromedriver                        0x0000000100ea7618 chromedriver + 751128\n5   chromedriver                        0x0000000100e618f0 chromedriver + 465136\n6   chromedriver                        0x0000000100e62974 chromedriver + 469364\n7   chromedriver                        0x00000001011c7788 chromedriver + 4028296\n8   chromedriver                        0x00000001011cbc1c chromedriver + 4045852\n9   chromedriver                        0x00000001011d1c98 chromedriver + 4070552\n10  chromedriver                        0x00000001011cc8d8 chromedriver + 4049112\n11  chromedriver                        0x00000001011a3d84 chromedriver + 3882372\n12  chromedriver                        0x00000001011ea720 chromedriver + 4171552\n13  chromedriver                        0x00000001011ea878 chromedriver + 4171896\n14  chromedriver                        0x00000001011fe014 chromedriver + 4251668\n15  libsystem_pthread.dylib             0x000000019cb9e06c _pthread_start + 148\n16  libsystem_pthread.dylib             0x000000019cb98e2c thread_start + 8\n"
     ]
    }
   ],
   "source": [
    "# Find the search bar container\n",
    "search_box_container = driver.find_element(By.CSS_SELECTOR, \"input[data-component='SearchInput']\")\n",
    "\n",
    "# Find the input element within the search bar container\n",
    "# search_input = search_box_container.find_element(By.NAME, \"search\")\n"
   ]
  },
  {
   "cell_type": "code",
   "execution_count": null,
   "metadata": {},
   "outputs": [
    {
     "ename": "NoSuchWindowException",
     "evalue": "Message: no such window: target window already closed\nfrom unknown error: web view not found\n  (Session info: chrome=111.0.5563.64)\nStacktrace:\n0   chromedriver                        0x00000001006bad3c chromedriver + 4222268\n1   chromedriver                        0x00000001006418e8 chromedriver + 3725544\n2   chromedriver                        0x00000001002f7da4 chromedriver + 277924\n3   chromedriver                        0x00000001002d2be0 chromedriver + 125920\n4   chromedriver                        0x0000000100357f2c chromedriver + 671532\n5   chromedriver                        0x000000010036ae20 chromedriver + 749088\n6   chromedriver                        0x00000001003258f0 chromedriver + 465136\n7   chromedriver                        0x0000000100326974 chromedriver + 469364\n8   chromedriver                        0x000000010068b788 chromedriver + 4028296\n9   chromedriver                        0x000000010068fc1c chromedriver + 4045852\n10  chromedriver                        0x0000000100695c98 chromedriver + 4070552\n11  chromedriver                        0x00000001006908d8 chromedriver + 4049112\n12  chromedriver                        0x0000000100667d84 chromedriver + 3882372\n13  chromedriver                        0x00000001006ae720 chromedriver + 4171552\n14  chromedriver                        0x00000001006ae878 chromedriver + 4171896\n15  chromedriver                        0x00000001006c2014 chromedriver + 4251668\n16  libsystem_pthread.dylib             0x000000019cb9e06c _pthread_start + 148\n17  libsystem_pthread.dylib             0x000000019cb98e2c thread_start + 8\n",
     "output_type": "error",
     "traceback": [
      "\u001b[0;31m---------------------------------------------------------------------------\u001b[0m",
      "\u001b[0;31mNoSuchWindowException\u001b[0m                     Traceback (most recent call last)",
      "Cell \u001b[0;32mIn[19], line 2\u001b[0m\n\u001b[1;32m      1\u001b[0m \u001b[39m# Get the page source and pass it to BeautifulSoup\u001b[39;00m\n\u001b[0;32m----> 2\u001b[0m soup \u001b[39m=\u001b[39m BeautifulSoup(driver\u001b[39m.\u001b[39;49mpage_source, \u001b[39m'\u001b[39m\u001b[39mhtml.parser\u001b[39m\u001b[39m'\u001b[39m)\n\u001b[1;32m      4\u001b[0m \u001b[39m# Find the element containing the sneaker's price and extract the price\u001b[39;00m\n\u001b[1;32m      5\u001b[0m price_element \u001b[39m=\u001b[39m soup\u001b[39m.\u001b[39mfind(\u001b[39m'\u001b[39m\u001b[39mdiv\u001b[39m\u001b[39m'\u001b[39m, {\u001b[39m'\u001b[39m\u001b[39mclass\u001b[39m\u001b[39m'\u001b[39m: \u001b[39m'\u001b[39m\u001b[39mproduct-summary__price\u001b[39m\u001b[39m'\u001b[39m})\n",
      "File \u001b[0;32m/Library/Frameworks/Python.framework/Versions/3.11/lib/python3.11/site-packages/selenium/webdriver/remote/webdriver.py:541\u001b[0m, in \u001b[0;36mWebDriver.page_source\u001b[0;34m(self)\u001b[0m\n\u001b[1;32m    532\u001b[0m \u001b[39m@property\u001b[39m\n\u001b[1;32m    533\u001b[0m \u001b[39mdef\u001b[39;00m \u001b[39mpage_source\u001b[39m(\u001b[39mself\u001b[39m) \u001b[39m-\u001b[39m\u001b[39m>\u001b[39m \u001b[39mstr\u001b[39m:\n\u001b[1;32m    534\u001b[0m \u001b[39m    \u001b[39m\u001b[39m\"\"\"Gets the source of the current page.\u001b[39;00m\n\u001b[1;32m    535\u001b[0m \n\u001b[1;32m    536\u001b[0m \u001b[39m    :Usage:\u001b[39;00m\n\u001b[0;32m   (...)\u001b[0m\n\u001b[1;32m    539\u001b[0m \u001b[39m            driver.page_source\u001b[39;00m\n\u001b[1;32m    540\u001b[0m \u001b[39m    \"\"\"\u001b[39;00m\n\u001b[0;32m--> 541\u001b[0m     \u001b[39mreturn\u001b[39;00m \u001b[39mself\u001b[39;49m\u001b[39m.\u001b[39;49mexecute(Command\u001b[39m.\u001b[39;49mGET_PAGE_SOURCE)[\u001b[39m\"\u001b[39m\u001b[39mvalue\u001b[39m\u001b[39m\"\u001b[39m]\n",
      "File \u001b[0;32m/Library/Frameworks/Python.framework/Versions/3.11/lib/python3.11/site-packages/selenium/webdriver/remote/webdriver.py:440\u001b[0m, in \u001b[0;36mWebDriver.execute\u001b[0;34m(self, driver_command, params)\u001b[0m\n\u001b[1;32m    438\u001b[0m response \u001b[39m=\u001b[39m \u001b[39mself\u001b[39m\u001b[39m.\u001b[39mcommand_executor\u001b[39m.\u001b[39mexecute(driver_command, params)\n\u001b[1;32m    439\u001b[0m \u001b[39mif\u001b[39;00m response:\n\u001b[0;32m--> 440\u001b[0m     \u001b[39mself\u001b[39;49m\u001b[39m.\u001b[39;49merror_handler\u001b[39m.\u001b[39;49mcheck_response(response)\n\u001b[1;32m    441\u001b[0m     response[\u001b[39m\"\u001b[39m\u001b[39mvalue\u001b[39m\u001b[39m\"\u001b[39m] \u001b[39m=\u001b[39m \u001b[39mself\u001b[39m\u001b[39m.\u001b[39m_unwrap_value(response\u001b[39m.\u001b[39mget(\u001b[39m\"\u001b[39m\u001b[39mvalue\u001b[39m\u001b[39m\"\u001b[39m, \u001b[39mNone\u001b[39;00m))\n\u001b[1;32m    442\u001b[0m     \u001b[39mreturn\u001b[39;00m response\n",
      "File \u001b[0;32m/Library/Frameworks/Python.framework/Versions/3.11/lib/python3.11/site-packages/selenium/webdriver/remote/errorhandler.py:245\u001b[0m, in \u001b[0;36mErrorHandler.check_response\u001b[0;34m(self, response)\u001b[0m\n\u001b[1;32m    243\u001b[0m         alert_text \u001b[39m=\u001b[39m value[\u001b[39m\"\u001b[39m\u001b[39malert\u001b[39m\u001b[39m\"\u001b[39m]\u001b[39m.\u001b[39mget(\u001b[39m\"\u001b[39m\u001b[39mtext\u001b[39m\u001b[39m\"\u001b[39m)\n\u001b[1;32m    244\u001b[0m     \u001b[39mraise\u001b[39;00m exception_class(message, screen, stacktrace, alert_text)  \u001b[39m# type: ignore[call-arg]  # mypy is not smart enough here\u001b[39;00m\n\u001b[0;32m--> 245\u001b[0m \u001b[39mraise\u001b[39;00m exception_class(message, screen, stacktrace)\n",
      "\u001b[0;31mNoSuchWindowException\u001b[0m: Message: no such window: target window already closed\nfrom unknown error: web view not found\n  (Session info: chrome=111.0.5563.64)\nStacktrace:\n0   chromedriver                        0x00000001006bad3c chromedriver + 4222268\n1   chromedriver                        0x00000001006418e8 chromedriver + 3725544\n2   chromedriver                        0x00000001002f7da4 chromedriver + 277924\n3   chromedriver                        0x00000001002d2be0 chromedriver + 125920\n4   chromedriver                        0x0000000100357f2c chromedriver + 671532\n5   chromedriver                        0x000000010036ae20 chromedriver + 749088\n6   chromedriver                        0x00000001003258f0 chromedriver + 465136\n7   chromedriver                        0x0000000100326974 chromedriver + 469364\n8   chromedriver                        0x000000010068b788 chromedriver + 4028296\n9   chromedriver                        0x000000010068fc1c chromedriver + 4045852\n10  chromedriver                        0x0000000100695c98 chromedriver + 4070552\n11  chromedriver                        0x00000001006908d8 chromedriver + 4049112\n12  chromedriver                        0x0000000100667d84 chromedriver + 3882372\n13  chromedriver                        0x00000001006ae720 chromedriver + 4171552\n14  chromedriver                        0x00000001006ae878 chromedriver + 4171896\n15  chromedriver                        0x00000001006c2014 chromedriver + 4251668\n16  libsystem_pthread.dylib             0x000000019cb9e06c _pthread_start + 148\n17  libsystem_pthread.dylib             0x000000019cb98e2c thread_start + 8\n"
     ]
    }
   ],
   "source": [
    "# Get the page source and pass it to BeautifulSoup\n",
    "soup = BeautifulSoup(driver.page_source, 'html.parser')\n",
    "\n",
    "# Find the element containing the sneaker's price and extract the price\n",
    "price_element = soup.find('div', {'class': 'product-summary__price'})\n",
    "price = price_element.find('div', {'class': 'product-summary__price-value'}).text\n",
    "\n",
    "# Print the price\n",
    "print(f\"The price of the sneaker is {price}\")\n",
    "\n",
    "# Close the browser\n",
    "driver.quit()"
   ]
  },
  {
   "cell_type": "code",
   "execution_count": null,
   "metadata": {},
   "outputs": [],
   "source": [
    "\n"
   ]
  },
  {
   "cell_type": "code",
   "execution_count": null,
   "metadata": {},
   "outputs": [],
   "source": []
  },
  {
   "cell_type": "code",
   "execution_count": null,
   "metadata": {},
   "outputs": [],
   "source": []
  }
 ],
 "metadata": {
  "kernelspec": {
   "display_name": "Python 3",
   "language": "python",
   "name": "python3"
  },
  "language_info": {
   "codemirror_mode": {
    "name": "ipython",
    "version": 3
   },
   "file_extension": ".py",
   "mimetype": "text/x-python",
   "name": "python",
   "nbconvert_exporter": "python",
   "pygments_lexer": "ipython3",
   "version": "3.11.2"
  },
  "orig_nbformat": 4
 },
 "nbformat": 4,
 "nbformat_minor": 2
}
